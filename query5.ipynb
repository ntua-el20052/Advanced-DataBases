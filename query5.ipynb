{
 "cells": [
  {
   "cell_type": "code",
   "execution_count": 1,
   "id": "a20aa1e5-7947-4f19-ab91-e9f4b019a864",
   "metadata": {
    "tags": []
   },
   "outputs": [
    {
     "name": "stdout",
     "output_type": "stream",
     "text": [
      "Starting Spark application\n"
     ]
    },
    {
     "data": {
      "text/html": [
       "<table>\n",
       "<tr><th>ID</th><th>YARN Application ID</th><th>Kind</th><th>State</th><th>Spark UI</th><th>Driver log</th><th>User</th><th>Current session?</th></tr><tr><td>2025</td><td>application_1732639283265_1985</td><td>pyspark</td><td>idle</td><td><a target=\"_blank\" href=\"http://ip-192-168-1-36.eu-central-1.compute.internal:20888/proxy/application_1732639283265_1985/\">Link</a></td><td><a target=\"_blank\" href=\"http://ip-192-168-1-227.eu-central-1.compute.internal:8042/node/containerlogs/container_1732639283265_1985_01_000001/livy\">Link</a></td><td>None</td><td>✔</td></tr></table>"
      ],
      "text/plain": [
       "<IPython.core.display.HTML object>"
      ]
     },
     "metadata": {},
     "output_type": "display_data"
    },
    {
     "data": {
      "application/vnd.jupyter.widget-view+json": {
       "model_id": "",
       "version_major": 2,
       "version_minor": 0
      },
      "text/plain": [
       "FloatProgress(value=0.0, bar_style='info', description='Progress:', layout=Layout(height='25px', width='50%'),…"
      ]
     },
     "metadata": {},
     "output_type": "display_data"
    },
    {
     "name": "stdout",
     "output_type": "stream",
     "text": [
      "SparkSession available as 'spark'.\n"
     ]
    },
    {
     "data": {
      "application/vnd.jupyter.widget-view+json": {
       "model_id": "",
       "version_major": 2,
       "version_minor": 0
      },
      "text/plain": [
       "FloatProgress(value=0.0, bar_style='info', description='Progress:', layout=Layout(height='25px', width='50%'),…"
      ]
     },
     "metadata": {},
     "output_type": "display_data"
    },
    {
     "name": "stdout",
     "output_type": "stream",
     "text": [
      "+----------------+--------------------+------+\n",
      "|        DIVISION|    average_distance|     #|\n",
      "+----------------+--------------------+------+\n",
      "|       HOLLYWOOD|0.020437790725485645|213080|\n",
      "|        VAN NUYS|0.028653154590629126|211457|\n",
      "|        WILSHIRE|0.026312166557481597|198150|\n",
      "|       SOUTHWEST| 0.02157700118424315|186742|\n",
      "|         OLYMPIC| 0.01729162112331338|180463|\n",
      "| NORTH HOLLYWOOD| 0.02611521422256773|171159|\n",
      "|     77TH STREET|0.016584871496068184|167323|\n",
      "|         PACIFIC|0.037495777088312074|157468|\n",
      "|         CENTRAL|0.009868086849235298|154474|\n",
      "|       SOUTHEAST|0.024150127195506466|151999|\n",
      "|         RAMPART|0.014730484635455721|149675|\n",
      "|         TOPANGA| 0.03243890335156792|147167|\n",
      "|     WEST VALLEY|0.028973607196407476|130933|\n",
      "|          HARBOR| 0.03468867635155542|126749|\n",
      "|        FOOTHILL| 0.04125740608010437|122515|\n",
      "|WEST LOS ANGELES|0.029842606564859788|121074|\n",
      "|      HOLLENBECK| 0.02640744523588532|119329|\n",
      "|          NEWTON|0.015890866822603905|109078|\n",
      "|         MISSION|0.035032007153604966|109009|\n",
      "|       NORTHEAST| 0.03907902069343999|105687|\n",
      "+----------------+--------------------+------+\n",
      "only showing top 20 rows\n",
      "\n",
      "Time taken: 22.82 seconds"
     ]
    }
   ],
   "source": [
    "from sedona.spark import *\n",
    "from pyspark.sql import SparkSession\n",
    "from pyspark.sql.functions import col, avg, count, desc\n",
    "from pyspark.sql.window import Window\n",
    "from pyspark.sql.functions import row_number\n",
    "import time\n",
    "\n",
    "\n",
    "# Initialize Spark session\n",
    "spark = SparkSession \\\n",
    "    .builder \\\n",
    "    .appName(\"Query 5 - Crime Analysis with Police Stations\") \\\n",
    "    .config(\"spark.executor.instances\", \"2\") \\\n",
    "    .config(\"spark.executor.memory\", \"8g\") \\\n",
    "    .config(\"spark.executor.cores\", \"4\") \\\n",
    "    .getOrCreate()\n",
    "\n",
    "# Create Sedona context\n",
    "sedona = SedonaContext.create(spark)\n",
    "\n",
    "# Start timing\n",
    "start_time = time.time()\n",
    "\n",
    "# Load datasets\n",
    "crime_data = spark.read.csv(\"s3://initial-notebook-data-bucket-dblab-905418150721/CrimeData/\", header=True)\n",
    "station_data = spark.read.csv(\"s3://initial-notebook-data-bucket-dblab-905418150721/LA_Police_Stations.csv\", header=True)\n",
    "\n",
    "# Filter out Null Island records and create geometries for crime data\n",
    "crime_data = crime_data.filter((col(\"LAT\").isNotNull()) & (col(\"LON\").isNotNull()) & (col(\"LAT\") != 0) & (col(\"LON\") != 0))\n",
    "crime_data = crime_data.withColumn(\"crime_geometry\", ST_Point(col(\"LON\").cast(\"double\"), col(\"LAT\").cast(\"double\")))\n",
    "\n",
    "# Create geometries for police stations using X and Y columns\n",
    "station_data = station_data.filter((col(\"X\").isNotNull()) & (col(\"Y\").isNotNull()))\n",
    "station_data = station_data.withColumn(\"station_geometry\", ST_Point(col(\"X\").cast(\"double\"), col(\"Y\").cast(\"double\")))\n",
    "\n",
    "# Broadcast police stations for join efficiency\n",
    "station_data_broadcast = station_data.select(\"station_geometry\", \"DIVISION\").alias(\"stations\")\n",
    "\n",
    "# Join crime data with police stations to calculate distances\n",
    "crime_with_distances = crime_data.crossJoin(station_data_broadcast) \\\n",
    "    .withColumn(\"distance\", ST_Distance(col(\"crime_geometry\"), col(\"stations.station_geometry\")))\n",
    "\n",
    "# Find the closest station for each crime using DR_NO as the unique identifier\n",
    "window_spec = Window.partitionBy(\"DR_NO\").orderBy(col(\"distance\").asc())\n",
    "closest_station = crime_with_distances.withColumn(\"row_number\", row_number().over(window_spec)) \\\n",
    "    .filter(col(\"row_number\") == 1) \\\n",
    "    .select(\"DR_NO\", \"DIVISION\", \"distance\")\n",
    "\n",
    "# Aggregate results by station\n",
    "results = closest_station.groupBy(\"DIVISION\").agg(\n",
    "    avg(\"distance\").alias(\"average_distance\"),\n",
    "    count(\"DR_NO\").alias(\"#\")\n",
    ")\n",
    "\n",
    "# Sort results by number of incidents\n",
    "sorted_results = results.orderBy(desc(\"#\"))\n",
    "\n",
    "# Display the results\n",
    "sorted_results.show()\n",
    "\n",
    "# Stop timing and print out the execution duration\n",
    "end_time = time.time()\n",
    "elapsed_time = end_time - start_time\n",
    "print(f\"Time taken: {elapsed_time:.2f} seconds\")\n",
    "\n",
    "# Stop Spark session\n",
    "#spark.stop()"
   ]
  },
  {
   "cell_type": "code",
   "execution_count": 2,
   "id": "8ee4ecb2-4935-493c-ae06-88a009773820",
   "metadata": {
    "tags": []
   },
   "outputs": [
    {
     "data": {
      "application/vnd.jupyter.widget-view+json": {
       "model_id": "",
       "version_major": 2,
       "version_minor": 0
      },
      "text/plain": [
       "FloatProgress(value=0.0, bar_style='info', description='Progress:', layout=Layout(height='25px', width='50%'),…"
      ]
     },
     "metadata": {},
     "output_type": "display_data"
    },
    {
     "name": "stdout",
     "output_type": "stream",
     "text": [
      "+----------------+--------------------+------+\n",
      "|        DIVISION|    average_distance|     #|\n",
      "+----------------+--------------------+------+\n",
      "|       HOLLYWOOD| 0.02043779072548565|213080|\n",
      "|        VAN NUYS|0.028653154590629115|211457|\n",
      "|        WILSHIRE| 0.02631216655748158|198150|\n",
      "|       SOUTHWEST|0.021577001184243147|186742|\n",
      "|         OLYMPIC| 0.01729162112331338|180463|\n",
      "| NORTH HOLLYWOOD| 0.02611521422256773|171159|\n",
      "|     77TH STREET|0.016584871496068188|167323|\n",
      "|         PACIFIC| 0.03749577708831209|157468|\n",
      "|         CENTRAL|  0.0098680868492353|154474|\n",
      "|       SOUTHEAST|0.024150127195506466|151999|\n",
      "|         RAMPART|0.014730484635455721|149675|\n",
      "|         TOPANGA| 0.03243890335156791|147167|\n",
      "|     WEST VALLEY| 0.02897360719640747|130933|\n",
      "|          HARBOR| 0.03468867635155542|126749|\n",
      "|        FOOTHILL| 0.04125740608010438|122515|\n",
      "|WEST LOS ANGELES|0.029842606564859795|121074|\n",
      "|      HOLLENBECK| 0.02640744523588532|119329|\n",
      "|          NEWTON|0.015890866822603905|109078|\n",
      "|         MISSION|0.035032007153604966|109009|\n",
      "|       NORTHEAST|0.039079020693440006|105687|\n",
      "+----------------+--------------------+------+\n",
      "only showing top 20 rows\n",
      "\n",
      "Time taken: 7.66 seconds"
     ]
    }
   ],
   "source": [
    "from sedona.spark import *\n",
    "from pyspark.sql import SparkSession\n",
    "from pyspark.sql.functions import col, avg, count, desc\n",
    "from pyspark.sql.window import Window\n",
    "from pyspark.sql.functions import row_number\n",
    "import time\n",
    "\n",
    "# Initialize Spark session\n",
    "spark = SparkSession \\\n",
    "    .builder \\\n",
    "    .appName(\"Query 5 - Crime Analysis with Police Stations\") \\\n",
    "    .config(\"spark.executor.instances\", \"4\") \\\n",
    "    .config(\"spark.executor.memory\", \"4g\") \\\n",
    "    .config(\"spark.executor.cores\", \"2\") \\\n",
    "    .getOrCreate()\n",
    "\n",
    "# Create Sedona context\n",
    "sedona = SedonaContext.create(spark)\n",
    "\n",
    "# Start timing\n",
    "start_time = time.time()\n",
    "\n",
    "# Load datasets\n",
    "crime_data = spark.read.csv(\"s3://initial-notebook-data-bucket-dblab-905418150721/CrimeData/\", header=True)\n",
    "station_data = spark.read.csv(\"s3://initial-notebook-data-bucket-dblab-905418150721/LA_Police_Stations.csv\", header=True)\n",
    "\n",
    "# Filter out Null Island records and create geometries for crime data\n",
    "crime_data = crime_data.filter((col(\"LAT\").isNotNull()) & (col(\"LON\").isNotNull()) & (col(\"LAT\") != 0) & (col(\"LON\") != 0))\n",
    "crime_data = crime_data.withColumn(\"crime_geometry\", ST_Point(col(\"LON\").cast(\"double\"), col(\"LAT\").cast(\"double\")))\n",
    "\n",
    "# Create geometries for police stations using X and Y columns\n",
    "station_data = station_data.filter((col(\"X\").isNotNull()) & (col(\"Y\").isNotNull()))\n",
    "station_data = station_data.withColumn(\"station_geometry\", ST_Point(col(\"X\").cast(\"double\"), col(\"Y\").cast(\"double\")))\n",
    "\n",
    "# Broadcast police stations for join efficiency\n",
    "station_data_broadcast = station_data.select(\"station_geometry\", \"DIVISION\").alias(\"stations\")\n",
    "\n",
    "# Join crime data with police stations to calculate distances\n",
    "crime_with_distances = crime_data.crossJoin(station_data_broadcast) \\\n",
    "    .withColumn(\"distance\", ST_Distance(col(\"crime_geometry\"), col(\"stations.station_geometry\")))\n",
    "\n",
    "# Find the closest station for each crime using DR_NO as the unique identifier\n",
    "window_spec = Window.partitionBy(\"DR_NO\").orderBy(col(\"distance\").asc())\n",
    "closest_station = crime_with_distances.withColumn(\"row_number\", row_number().over(window_spec)) \\\n",
    "    .filter(col(\"row_number\") == 1) \\\n",
    "    .select(\"DR_NO\", \"DIVISION\", \"distance\")\n",
    "\n",
    "# Aggregate results by station\n",
    "results = closest_station.groupBy(\"DIVISION\").agg(\n",
    "    avg(\"distance\").alias(\"average_distance\"),\n",
    "    count(\"DR_NO\").alias(\"#\")\n",
    ")\n",
    "\n",
    "# Sort results by number of incidents\n",
    "sorted_results = results.orderBy(desc(\"#\"))\n",
    "\n",
    "# Display the results\n",
    "sorted_results.show()\n",
    "\n",
    "# Stop timing and print out the execution duration\n",
    "end_time = time.time()\n",
    "elapsed_time = end_time - start_time\n",
    "print(f\"Time taken: {elapsed_time:.2f} seconds\")\n",
    "\n",
    "# Stop Spark session\n",
    "#spark.stop()"
   ]
  },
  {
   "cell_type": "code",
   "execution_count": 3,
   "id": "f090512a-e29e-4e7a-9abe-5102b0a10bfc",
   "metadata": {
    "tags": []
   },
   "outputs": [
    {
     "data": {
      "application/vnd.jupyter.widget-view+json": {
       "model_id": "",
       "version_major": 2,
       "version_minor": 0
      },
      "text/plain": [
       "FloatProgress(value=0.0, bar_style='info', description='Progress:', layout=Layout(height='25px', width='50%'),…"
      ]
     },
     "metadata": {},
     "output_type": "display_data"
    },
    {
     "name": "stdout",
     "output_type": "stream",
     "text": [
      "+----------------+--------------------+------+\n",
      "|        DIVISION|    average_distance|     #|\n",
      "+----------------+--------------------+------+\n",
      "|       HOLLYWOOD| 0.02043779072548565|213080|\n",
      "|        VAN NUYS| 0.02865315459062912|211457|\n",
      "|        WILSHIRE|0.026312166557481587|198150|\n",
      "|       SOUTHWEST| 0.02157700118424315|186742|\n",
      "|         OLYMPIC| 0.01729162112331338|180463|\n",
      "| NORTH HOLLYWOOD|0.026115214222567722|171159|\n",
      "|     77TH STREET|0.016584871496068184|167323|\n",
      "|         PACIFIC|0.037495777088312074|157468|\n",
      "|         CENTRAL|0.009868086849235298|154474|\n",
      "|       SOUTHEAST|0.024150127195506462|151999|\n",
      "|         RAMPART|0.014730484635455718|149675|\n",
      "|         TOPANGA| 0.03243890335156791|147167|\n",
      "|     WEST VALLEY|0.028973607196407472|130933|\n",
      "|          HARBOR|0.034688676351555425|126749|\n",
      "|        FOOTHILL| 0.04125740608010438|122515|\n",
      "|WEST LOS ANGELES| 0.02984260656485979|121074|\n",
      "|      HOLLENBECK|0.026407445235885316|119329|\n",
      "|          NEWTON|  0.0158908668226039|109078|\n",
      "|         MISSION|0.035032007153604966|109009|\n",
      "|       NORTHEAST| 0.03907902069343999|105687|\n",
      "+----------------+--------------------+------+\n",
      "only showing top 20 rows\n",
      "\n",
      "Time taken: 6.72 seconds"
     ]
    }
   ],
   "source": [
    "from sedona.spark import *\n",
    "from pyspark.sql import SparkSession\n",
    "from pyspark.sql.functions import col, avg, count, desc\n",
    "from pyspark.sql.window import Window\n",
    "from pyspark.sql.functions import row_number\n",
    "import time\n",
    "\n",
    "# Initialize Spark session\n",
    "spark = SparkSession \\\n",
    "    .builder \\\n",
    "    .appName(\"Query 5 - Crime Analysis with Police Stations\") \\\n",
    "    .config(\"spark.executor.instances\", \"8\") \\\n",
    "    .config(\"spark.executor.memory\", \"2g\") \\\n",
    "    .config(\"spark.executor.cores\", \"1\") \\\n",
    "    .getOrCreate()\n",
    "\n",
    "# Create Sedona context\n",
    "sedona = SedonaContext.create(spark)\n",
    "\n",
    "# Start timing\n",
    "start_time = time.time()\n",
    "\n",
    "# Load datasets\n",
    "crime_data = spark.read.csv(\"s3://initial-notebook-data-bucket-dblab-905418150721/CrimeData/\", header=True)\n",
    "station_data = spark.read.csv(\"s3://initial-notebook-data-bucket-dblab-905418150721/LA_Police_Stations.csv\", header=True)\n",
    "\n",
    "# Filter out Null Island records and create geometries for crime data\n",
    "crime_data = crime_data.filter((col(\"LAT\").isNotNull()) & (col(\"LON\").isNotNull()) & (col(\"LAT\") != 0) & (col(\"LON\") != 0))\n",
    "crime_data = crime_data.withColumn(\"crime_geometry\", ST_Point(col(\"LON\").cast(\"double\"), col(\"LAT\").cast(\"double\")))\n",
    "\n",
    "# Create geometries for police stations using X and Y columns\n",
    "station_data = station_data.filter((col(\"X\").isNotNull()) & (col(\"Y\").isNotNull()))\n",
    "station_data = station_data.withColumn(\"station_geometry\", ST_Point(col(\"X\").cast(\"double\"), col(\"Y\").cast(\"double\")))\n",
    "\n",
    "# Broadcast police stations for join efficiency\n",
    "station_data_broadcast = station_data.select(\"station_geometry\", \"DIVISION\").alias(\"stations\")\n",
    "\n",
    "# Join crime data with police stations to calculate distances\n",
    "crime_with_distances = crime_data.crossJoin(station_data_broadcast) \\\n",
    "    .withColumn(\"distance\", ST_Distance(col(\"crime_geometry\"), col(\"stations.station_geometry\")))\n",
    "\n",
    "# Find the closest station for each crime using DR_NO as the unique identifier\n",
    "window_spec = Window.partitionBy(\"DR_NO\").orderBy(col(\"distance\").asc())\n",
    "closest_station = crime_with_distances.withColumn(\"row_number\", row_number().over(window_spec)) \\\n",
    "    .filter(col(\"row_number\") == 1) \\\n",
    "    .select(\"DR_NO\", \"DIVISION\", \"distance\")\n",
    "\n",
    "# Aggregate results by station\n",
    "results = closest_station.groupBy(\"DIVISION\").agg(\n",
    "    avg(\"distance\").alias(\"average_distance\"),\n",
    "    count(\"DR_NO\").alias(\"#\")\n",
    ")\n",
    "\n",
    "# Sort results by number of incidents\n",
    "sorted_results = results.orderBy(desc(\"#\"))\n",
    "\n",
    "# Display the results\n",
    "sorted_results.show()\n",
    "\n",
    "# Stop timing and print out the execution duration\n",
    "end_time = time.time()\n",
    "elapsed_time = end_time - start_time\n",
    "print(f\"Time taken: {elapsed_time:.2f} seconds\")\n",
    "\n",
    "# Stop Spark session\n",
    "#spark.stop()"
   ]
  },
  {
   "cell_type": "code",
   "execution_count": null,
   "id": "00d9b3c8-88d0-4858-bba6-a48df6ee5473",
   "metadata": {},
   "outputs": [],
   "source": []
  }
 ],
 "metadata": {
  "kernelspec": {
   "display_name": "Sparkmagic (PySpark)",
   "language": "python",
   "name": "pysparkkernel"
  },
  "language_info": {
   "codemirror_mode": {
    "name": "python",
    "version": 3
   },
   "file_extension": ".py",
   "mimetype": "text/x-python",
   "name": "pyspark",
   "pygments_lexer": "python3"
  }
 },
 "nbformat": 4,
 "nbformat_minor": 5
}
